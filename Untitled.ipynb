{
 "cells": [
  {
   "cell_type": "code",
   "execution_count": 4,
   "id": "2e725b56",
   "metadata": {},
   "outputs": [
    {
     "ename": "SyntaxError",
     "evalue": "(unicode error) 'unicodeescape' codec can't decode bytes in position 2-3: truncated \\UXXXXXXXX escape (2862985426.py, line 2)",
     "output_type": "error",
     "traceback": [
      "\u001b[1;36m  Input \u001b[1;32mIn [4]\u001b[1;36m\u001b[0m\n\u001b[1;33m    data_raw=pd.read_csv(\"C:\\Users\\Serene Mathew\\Desktop\\MCA\\miniprojectshit\\IPIP-FFM-data-8Nov2018\\data-final.csv\",sep='\\t')\u001b[0m\n\u001b[1;37m                                                                                                                   ^\u001b[0m\n\u001b[1;31mSyntaxError\u001b[0m\u001b[1;31m:\u001b[0m (unicode error) 'unicodeescape' codec can't decode bytes in position 2-3: truncated \\UXXXXXXXX escape\n"
     ]
    }
   ],
   "source": [
    "import pandas as pd\n",
    "data_raw=pd.read_csv(\"C:\\Users\\Serene Mathew\\Desktop\\MCA\\miniprojectshit\\IPIP-FFM-data-8Nov2018\\data-final.csv\",sep='\\t')\n",
    "data=data_raw.copy()\n",
    "pd.options.display.max_colums=150\n",
    "data.drop(data.coumns[50:107],axis=1,inplace=true)\n",
    "data.drop(data.coumns[51:],axis=1,inplace=true)\n",
    "print('Number of participants:',len(data))\n",
    "data.head()"
   ]
  }
 ],
 "metadata": {
  "kernelspec": {
   "display_name": "Python 3 (ipykernel)",
   "language": "python",
   "name": "python3"
  },
  "language_info": {
   "codemirror_mode": {
    "name": "ipython",
    "version": 3
   },
   "file_extension": ".py",
   "mimetype": "text/x-python",
   "name": "python",
   "nbconvert_exporter": "python",
   "pygments_lexer": "ipython3",
   "version": "3.9.12"
  }
 },
 "nbformat": 4,
 "nbformat_minor": 5
}
